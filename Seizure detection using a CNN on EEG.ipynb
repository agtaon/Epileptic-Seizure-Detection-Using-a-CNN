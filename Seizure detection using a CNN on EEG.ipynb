{
 "cells": [
  {
   "cell_type": "markdown",
   "id": "4b293f81",
   "metadata": {},
   "source": [
    "__Attempt to recreate the result of the paper \"Epileptic Seizure Detection Using a\n",
    "Convolutional Neural Network\" by \"Bassem Bouaziz, Lotfi Chaari, Hadj Batatia, and Antonio Quintero-Rincón\"__\n",
    "\n",
    "Paper:\n",
    "https://oatao.univ-toulouse.fr/24138/1/Bouaziz_24138.pdf\n",
    "\n",
    "Dataset:\n",
    "https://physionet.org/content/chbmit/1.0.0/"
   ]
  },
  {
   "cell_type": "code",
   "execution_count": 1,
   "id": "260e8ce6",
   "metadata": {},
   "outputs": [],
   "source": [
    "# %matplotlib notebook\n",
    "import os\n",
    "import numpy as np\n",
    "import mne\n",
    "\n",
    "from matplotlib.widgets import Slider\n",
    "import matplotlib.pyplot as plt\n",
    "from datetime import datetime\n",
    "\n",
    "import re"
   ]
  },
  {
   "cell_type": "code",
   "execution_count": 2,
   "id": "ad68e39e",
   "metadata": {},
   "outputs": [],
   "source": [
    "import tensorflow as tf\n",
    "import tensorflow_addons as tfa\n",
    "from tensorflow import keras\n",
    "from tensorflow.keras import layers\n",
    "from keras.layers.advanced_activations import LeakyReLU"
   ]
  },
  {
   "cell_type": "code",
   "execution_count": 3,
   "id": "3c57aece",
   "metadata": {},
   "outputs": [],
   "source": [
    "# import warnings\n",
    "# warnings.filterwarnings(\"ignore\", category=RuntimeWarning)"
   ]
  },
  {
   "cell_type": "markdown",
   "id": "f3ed5b3e",
   "metadata": {},
   "source": [
    "Read one file from CHB-MIT dataset of epileptic seizures. https://physionet.org/content/chbmit/1.0.0/"
   ]
  },
  {
   "cell_type": "code",
   "execution_count": 4,
   "id": "59fc9006",
   "metadata": {},
   "outputs": [],
   "source": [
    "%%capture\n",
    "file_path = 'C:\\\\Users\\\\agfrxa\\\\CHB-MIT\\\\chb-mit-scalp-eeg-database-1.0.0\\\\chb-mit-scalp-eeg-database-1.0.0\\\\chb04\\\\chb04_28.edf'\n",
    "raw_eeg = mne.io.read_raw(file_path)\n",
    "chs = ['FP1-F7', 'F7-T7', 'T7-P7', 'P7-O1', 'FP1-F3','F3-C3','C3-P3','P3-O1','FP2-F4','F4-C4','C4-P4',\n",
    "       'P4-O2','FP2-F8','F8-T8','T8-P8-0','P8-O2','FZ-CZ','CZ-PZ','P7-T7','T7-FT9','FT9-FT10','FT10-T8','T8-P8-1']\n",
    "eeg_array = raw_eeg[chs][0]"
   ]
  },
  {
   "cell_type": "markdown",
   "id": "02390c67",
   "metadata": {},
   "source": [
    "Creates two dictionaries where the file name is the key and an array is the value. The array contains the time interval(s) that are either seizure interval or non-seizure interval. E.g the interval [120, 150] in the seizure_dict means that a seizure starts at 120 seconds and stops at 150 seconds. It does this by looping through the summary text-files providied with the data set."
   ]
  },
  {
   "cell_type": "code",
   "execution_count": 5,
   "id": "51353547",
   "metadata": {},
   "outputs": [],
   "source": [
    "def Get_seizure_non_seizure_dict(path, sampling_frequenc=256):\n",
    "    summary_path = path + '\\\\chb'+ path[-2::] +'-summary.txt'\n",
    "    date_format_str = '%H:%M:%S'\n",
    "    diffs = []\n",
    "    seizure_dict = {}\n",
    "    non_seizure_dict = {}\n",
    "    with open(summary_path) as txt:\n",
    "        summary = txt.readlines()\n",
    "    \n",
    "    for line in summary:\n",
    "        file_name = re.search(r\"File Name: chb([0-9]*)(|([a-z]))_([0-9]*)(|([+])).edf\", line)\n",
    "        seizure_start_time = re.search(r\"Seizure(| ([0-9]*)) Start Time:( |  )([0-9]*) seconds\", line)\n",
    "        seizure_end_time = re.search(r\"Seizure(| ([0-9]*)) End Time:( |  )([0-9]*) seconds\", line)\n",
    "\n",
    "        if file_name:\n",
    "            current_filename = file_name[0].split()[2]\n",
    "        if seizure_start_time:\n",
    "            current_start_time = int(seizure_start_time[0].split()[-2])\n",
    "        if seizure_end_time:\n",
    "            current_end_time = int(seizure_end_time[0].split()[-2])\n",
    "            if current_filename in seizure_dict:\n",
    "                seizure_dict[current_filename] = np.vstack((seizure_dict[current_filename], np.array([current_start_time, current_end_time])))\n",
    "            else:\n",
    "                seizure_dict[current_filename] = np.array([np.array([current_start_time, current_end_time])])\n",
    "                \n",
    "        test_start_time = re.search(r\"File Start Time: ([0-9]*):([0-9]*):([0-9]*)\", line)\n",
    "        test_end_time = re.search(r\"File End Time: ([0-9]*):([0-9]*):([0-9]*)\", line)\n",
    "\n",
    "        if test_start_time:\n",
    "            current_test_start_time = str(test_start_time[0].split()[-1])\n",
    "\n",
    "        if test_end_time:\n",
    "            current_test_end_time = str(test_end_time[0].split()[-1])\n",
    "            if int(current_test_start_time[0]) == 2:\n",
    "                current_test_start_time = current_test_start_time.replace('2', '1', 1)\n",
    "                current_test_end_time = current_test_end_time.replace('2', '1', 1)\n",
    "                \n",
    "\n",
    "            start = datetime.strptime(current_test_start_time, date_format_str)\n",
    "            end = datetime.strptime(current_test_end_time, date_format_str)\n",
    "            diffs.append(int((end - start).total_seconds()))\n",
    "            \n",
    "    \n",
    "    file_list = os.listdir(path)\n",
    "    edf_list = [file for file in file_list if 'seizures' not in file and 'txt' not in file]\n",
    "        \n",
    "    for num, edf_file_name in enumerate(edf_list):\n",
    "        if edf_file_name in seizure_dict:\n",
    "            non_seizure_dict[edf_file_name] = np.array([np.array([0, seizure_dict[edf_file_name][0,0]])])\n",
    "            for i in range(len(seizure_dict[edf_file_name]) - 1):\n",
    "                current_start_time = seizure_dict[edf_file_name][i][1]\n",
    "                current_end_time = seizure_dict[edf_file_name][i+1][0]\n",
    "                non_seizure_dict[edf_file_name] = np.vstack((non_seizure_dict[edf_file_name], np.array([current_start_time, current_end_time])))\n",
    "\n",
    "            non_seizure_dict[edf_file_name] = np.vstack((non_seizure_dict[edf_file_name], np.array([seizure_dict[edf_file_name][-1,-1], diffs[num]])))\n",
    "        else:\n",
    "            non_seizure_dict[edf_file_name] = np.array([np.array([0, diffs[num]])])\n",
    "            \n",
    "    return seizure_dict, non_seizure_dict\n",
    "\n",
    "path = 'C:\\\\Users\\\\agfrxa\\\\CHB-MIT\\\\chb-mit-scalp-eeg-database-1.0.0\\\\chb-mit-scalp-eeg-database-1.0.0\\\\chb04'\n",
    "\n",
    "seizure_dict, non_seizure_dict = Get_seizure_non_seizure_dict(path, sampling_frequenc=256)"
   ]
  },
  {
   "cell_type": "code",
   "execution_count": 6,
   "id": "018cc8de",
   "metadata": {},
   "outputs": [],
   "source": [
    "folder_path = 'C:\\\\Users\\\\agfrxa\\\\CHB-MIT\\\\chb-mit-scalp-eeg-database-1.0.0\\\\chb-mit-scalp-eeg-database-1.0.0'\n",
    "def Generate_global_seizure_dict(folder_path):\n",
    "    path = folder_path + '\\\\chb{value:02d}'\n",
    "    seizure_dict = {}\n",
    "    for i in range(1,24):\n",
    "        summary_path = path.format(value = i)\n",
    "        temp_seizure_dict, non_seizure_dict = Get_seizure_non_seizure_dict(summary_path)\n",
    "        seizure_dict.update(temp_seizure_dict)\n",
    "        \n",
    "    return seizure_dict\n",
    "\n",
    "def Calculate_total_seizure_time(glob_seizure_dict):\n",
    "    tot_seiz_time = 0\n",
    "    for key in glob_seizure_dict:\n",
    "        no_seizures = len(glob_seizure_dict[key])\n",
    "        for i in range(no_seizures):\n",
    "            tot_seiz_time += glob_seizure_dict[key][0][1]-glob_seizure_dict[key][0][0]\n",
    "\n",
    "    return tot_seiz_time\n",
    "glob_seizure_dict = Generate_global_seizure_dict(folder_path)\n",
    "tot_seiz_time = Calculate_total_seizure_time(glob_seizure_dict)\n"
   ]
  },
  {
   "cell_type": "markdown",
   "id": "f3a8a162",
   "metadata": {},
   "source": [
    "Loads an edf-file and creates an array with the 23 channels in the list chs. These channels are present in almost all of the edf-files."
   ]
  },
  {
   "cell_type": "code",
   "execution_count": 7,
   "id": "1fe0ef93",
   "metadata": {},
   "outputs": [],
   "source": [
    "def load_epileptic_edf_file(folder_path, key, seizure_dict):\n",
    "    chs = ['FP1-F7', 'F7-T7', 'T7-P7', 'P7-O1', 'FP1-F3','F3-C3','C3-P3','P3-O1','FP2-F4','F4-C4','C4-P4',\n",
    "       'P4-O2','FP2-F8','F8-T8','T8-P8-0','P8-O2','FZ-CZ','CZ-PZ','P7-T7','T7-FT9','FT9-FT10','FT10-T8','T8-P8-1']\n",
    "    directories = [dirc for dirc in os.listdir(folder_path) if 'chb' in dirc]\n",
    "\n",
    "    edf_path = folder_path + '\\\\' + key[0:5] + '\\\\' + key\n",
    "    return mne.io.read_raw(edf_path)[chs][0]"
   ]
  },
  {
   "cell_type": "code",
   "execution_count": 8,
   "id": "472e1bbe",
   "metadata": {},
   "outputs": [],
   "source": [
    "def Rowwise_normalization(eeg_array):\n",
    "    np.shape(eeg_array)\n",
    "    temp_eeg = eeg_array\n",
    "    norm_eeg = temp_eeg.transpose() - np.amin(temp_eeg, axis=1).transpose()\n",
    "    return (norm_eeg / np.amax(norm_eeg, axis=0)).transpose()\n",
    "\n",
    "def Normalize(eeg_array):\n",
    "    min_value = np.min(eeg_array)\n",
    "    new_array = (eeg_array-min_value)\n",
    "    return new_array/np.max(new_array)\n",
    "row_normalized_eeg = Rowwise_normalization(eeg_array)"
   ]
  },
  {
   "cell_type": "markdown",
   "id": "bbd8fe45",
   "metadata": {},
   "source": [
    "A plot showing a seizure between the two red lines. The eeg-arrays are normalized rowwise and plotted as a heatmap where the color corresponds to the amplitude of the signal at that point. This, split into parts, is what the network will be trained on."
   ]
  },
  {
   "cell_type": "code",
   "execution_count": 9,
   "id": "a9e98d04",
   "metadata": {},
   "outputs": [
    {
     "data": {
      "text/plain": [
       "<matplotlib.lines.Line2D at 0x29292fdfa60>"
      ]
     },
     "execution_count": 9,
     "metadata": {},
     "output_type": "execute_result"
    },
    {
     "data": {
      "image/png": "[encoded data removed]",
      "text/plain": [
       "<Figure size 432x288 with 1 Axes>"
      ]
     },
     "metadata": {
      "needs_background": "light"
     },
     "output_type": "display_data"
    }
   ],
   "source": [
    "plt.figure()\n",
    "plt.imshow(row_normalized_eeg[:,1577*256:1800*256], interpolation='nearest', aspect='auto')\n",
    "plt.locator_params(axis='y', nbins=24)\n",
    "plt.axvline(x=(1679-1577)*256, c='r')\n",
    "plt.axvline(x=(1781-1577)*256, c='r')\n"
   ]
  },
  {
   "cell_type": "markdown",
   "id": "ddb40296",
   "metadata": {},
   "source": [
    "This function takes an array and a corresponding seizure_dict and extracts an interval (in this case a 23x512 array) corresponding to a seizure. These intervals are stacked on top of eachother to create a training set. It also outputs an array of labels the same length as the number of stacked intervals."
   ]
  },
  {
   "cell_type": "code",
   "execution_count": 10,
   "id": "394e3a63",
   "metadata": {},
   "outputs": [],
   "source": [
    "def Generate_seizure_or_non_seizure_sample(eeg_array, seizure_dict, label, sample_len=2, \n",
    "                         edf_file_name='chb04_28.edf', \n",
    "                         sampling_frequency=256):\n",
    "    \n",
    "    no_of_seizures = len(seizure_dict[edf_file_name])\n",
    "    no_of_samples_list = [0]\n",
    "    \n",
    "    for i in range(no_of_seizures):\n",
    "        no_of_samples_list.append(int((seizure_dict[edf_file_name][i][1] - seizure_dict[edf_file_name][i][0]) / sample_len))\n",
    "        \n",
    "    no_of_samples = sum(no_of_samples_list)\n",
    "    seizures = np.zeros((no_of_samples, np.shape(eeg_array)[0], sample_len*sampling_frequency))\n",
    "\n",
    "    for i in range(no_of_seizures):\n",
    "        start_col = seizure_dict[edf_file_name][i][0] * sampling_frequency\n",
    "        start_index_in_array = sum(no_of_samples_list[0:i+1])\n",
    "        \n",
    "        stop_index_in_array = start_index_in_array + no_of_samples_list[i+1]\n",
    "        \n",
    "        for iterator, index in enumerate(range(start_index_in_array, stop_index_in_array)):\n",
    "            col1 = start_col + iterator * sample_len * sampling_frequency\n",
    "            col2 = start_col + (iterator+1) * sample_len * sampling_frequency\n",
    "            \n",
    "            seizures[index,:,:] = eeg_array[:, col1:col2]\n",
    "\n",
    "    images_in_set = np.shape(seizures)[0]\n",
    "    labels = np.ones(images_in_set)*label\n",
    "    return seizures, labels\n",
    "\n",
    "\n",
    "edf_file_name = list(seizure_dict.keys())[0]\n",
    "\n",
    "seizures, labels = Generate_seizure_or_non_seizure_sample(eeg_array, seizure_dict, label=1, sample_len=2, \n",
    "                         edf_file_name=edf_file_name, \n",
    "                         sampling_frequency=256)"
   ]
  },
  {
   "cell_type": "markdown",
   "id": "4f679dba",
   "metadata": {},
   "source": [
    "This function combines previous created functions and loops over all of the files in the data set to create a training set ready to be used by our model. The training set is shuffled before it is returned by the function. Some files are removed from the data set due to reasons such as them not containing the same number of channels etc."
   ]
  },
  {
   "cell_type": "code",
   "execution_count": 11,
   "id": "87de1b41",
   "metadata": {},
   "outputs": [],
   "source": [
    "%%capture\n",
    "folder_path = 'C:\\\\Users\\\\agfrxa\\\\CHB-MIT\\\\chb-mit-scalp-eeg-database-1.0.0\\\\chb-mit-scalp-eeg-database-1.0.0'\n",
    "def Generate_seizure_set(folder_path):\n",
    "    glob_seizure_dict = Generate_global_seizure_dict(folder_path)\n",
    "    tot_seiz_time = Calculate_total_seizure_time(glob_seizure_dict)\n",
    "    content = os.listdir(folder_path)\n",
    "    folder_list = [file for file in content if 'chb' in file][0:-1]\n",
    "    seizures = np.zeros((1,23,512))\n",
    "    non_seizures = np.zeros((1,23,512))\n",
    "    labels = np.array([])\n",
    "    non_labels = np.array([])\n",
    "    for path_iter in folder_list:\n",
    "        path = folder_path + '\\\\' + path_iter\n",
    "        seizure_dict, non_seizure_dict = Get_seizure_non_seizure_dict(path)\n",
    "        \n",
    "        if 'chb12_27.edf' in seizure_dict:\n",
    "            seizure_dict.pop('chb12_27.edf')\n",
    "            seizure_dict.pop('chb12_28.edf')\n",
    "            seizure_dict.pop('chb12_29.edf')\n",
    "            \n",
    "        if 'chb13_40.edf' in seizure_dict:\n",
    "            seizure_dict.pop('chb13_40.edf')\n",
    "        \n",
    "        if 'chb16_18.edf' in seizure_dict:\n",
    "            seizure_dict.pop('chb16_18.edf')\n",
    "            \n",
    "        if 'chb04_28.edf' in seizure_dict:\n",
    "            seizure_dict.pop('chb04_28.edf')\n",
    "            \n",
    "        for ind, key in enumerate(seizure_dict):\n",
    "            eeg_array = load_epileptic_edf_file(folder_path, key, seizure_dict)\n",
    "            eeg_array = Rowwise_normalization(eeg_array)\n",
    "\n",
    "            temp_seizure_array, temp_labels = Generate_seizure_or_non_seizure_sample(eeg_array, seizure_dict, label=1, \n",
    "                                                                                     sample_len=2, \n",
    "                                                                                     edf_file_name=key, \n",
    "                                                                                     sampling_frequency=256)\n",
    "            \n",
    "            temp_non_seizure_array, temp_non_labels = Generate_seizure_or_non_seizure_sample(eeg_array, non_seizure_dict, \n",
    "                                                                                             label=0, \n",
    "                                                                                             sample_len=2, \n",
    "                                                                                             edf_file_name=key, \n",
    "                                                                                             sampling_frequency=256)\n",
    "            \n",
    "            seizures = np.append(seizures, temp_seizure_array, axis=0)\n",
    "            labels = np.append(labels, temp_labels)\n",
    "            \n",
    "            no_of_samples = np.shape(temp_seizure_array)[0]\n",
    "            non_seizures = np.append(non_seizures, temp_non_seizure_array[0:no_of_samples], axis=0)\n",
    "            non_labels = np.append(non_labels, temp_non_labels[0:no_of_samples])\n",
    "    \n",
    "    \n",
    "    training_set = np.append(seizures[1::], non_seizures[1::], axis=0)\n",
    "    training_set = np.expand_dims(training_set, axis=-1)\n",
    "    labels = np.append(labels, non_labels)\n",
    "        \n",
    "    seed=np.random.randint(2e9)\n",
    "    tf.random.set_seed(seed)\n",
    "    training_set = tf.random.shuffle(training_set,seed)\n",
    "        \n",
    "    tf.random.set_seed(seed)\n",
    "    labels = tf.random.shuffle(labels,seed)\n",
    "        \n",
    "    return training_set, labels\n",
    "\n",
    "training_set, labels = Generate_seizure_set(folder_path)"
   ]
  },
  {
   "cell_type": "markdown",
   "id": "092d5fdc",
   "metadata": {},
   "source": [
    "A LeNet is generated, but with the sigmoid functions replaced by ReLu functions."
   ]
  },
  {
   "cell_type": "code",
   "execution_count": 15,
   "id": "d94954b8",
   "metadata": {},
   "outputs": [
    {
     "name": "stdout",
     "output_type": "stream",
     "text": [
      "Model: \"sequential_1\"\n",
      "_________________________________________________________________\n",
      " Layer (type)                Output Shape              Param #   \n",
      "=================================================================\n",
      " conv2d_2 (Conv2D)           (None, 23, 512, 6)        156       \n",
      "                                                                 \n",
      " max_pooling2d_2 (MaxPooling  (None, 11, 256, 6)       0         \n",
      " 2D)                                                             \n",
      "                                                                 \n",
      " conv2d_3 (Conv2D)           (None, 7, 252, 16)        2416      \n",
      "                                                                 \n",
      " max_pooling2d_3 (MaxPooling  (None, 3, 126, 16)       0         \n",
      " 2D)                                                             \n",
      "                                                                 \n",
      " flatten_1 (Flatten)         (None, 6048)              0         \n",
      "                                                                 \n",
      " dense_3 (Dense)             (None, 120)               725880    \n",
      "                                                                 \n",
      " dense_4 (Dense)             (None, 84)                10164     \n",
      "                                                                 \n",
      " dense_5 (Dense)             (None, 1)                 85        \n",
      "                                                                 \n",
      "=================================================================\n",
      "Total params: 738,701\n",
      "Trainable params: 738,701\n",
      "Non-trainable params: 0\n",
      "_________________________________________________________________\n"
     ]
    }
   ],
   "source": [
    "sampling_frequency = 256\n",
    "sample_len = 2\n",
    "input_shape = (10, 23, sampling_frequency*sample_len, 1)\n",
    "\n",
    "model = tf.keras.models.Sequential([\n",
    "    keras.Input(shape=input_shape[1:]),\n",
    "    layers.Conv2D(6, 5, activation='relu', padding='same'),\n",
    "    layers.MaxPooling2D(),\n",
    "    layers.Conv2D(16, 5, activation='relu'),\n",
    "    layers.MaxPooling2D(),\n",
    "    layers.Flatten(),\n",
    "    layers.Dense(120, activation='relu'),\n",
    "    layers.Dense(84, activation='relu'),\n",
    "    layers.Dense(1),\n",
    "])\n",
    "\n",
    "model.summary()"
   ]
  },
  {
   "cell_type": "code",
   "execution_count": 16,
   "id": "c2ed4a57",
   "metadata": {},
   "outputs": [
    {
     "data": {
      "image/png": "[encoded data removed]",
      "text/plain": [
       "<Figure size 432x288 with 1 Axes>"
      ]
     },
     "metadata": {
      "needs_background": "light"
     },
     "output_type": "display_data"
    },
    {
     "data": {
      "image/png": "[encoded data removed]",
      "text/plain": [
       "<Figure size 432x288 with 1 Axes>"
      ]
     },
     "metadata": {
      "needs_background": "light"
     },
     "output_type": "display_data"
    },
    {
     "data": {
      "image/png": "[encoded data removed]",
      "text/plain": [
       "<Figure size 432x288 with 1 Axes>"
      ]
     },
     "metadata": {
      "needs_background": "light"
     },
     "output_type": "display_data"
    },
    {
     "data": {
      "image/png": "[encoded data removed]",
      "text/plain": [
       "<Figure size 432x288 with 1 Axes>"
      ]
     },
     "metadata": {
      "needs_background": "light"
     },
     "output_type": "display_data"
    }
   ],
   "source": [
    "learning_rate=2e-4\n",
    "\n",
    "def fill_lr_vector(lr, scheduler):\n",
    "    lr_vector = np.ones(31)*2e-4\n",
    "    for epoch in range(30):\n",
    "        lr_vector[epoch+1] = scheduler(epoch, lr_vector[epoch])\n",
    "    return lr_vector\n",
    "\n",
    "def scheduler(epoch, lr):\n",
    "    return lr\n",
    "\n",
    "lr_vector = fill_lr_vector(learning_rate, scheduler)\n",
    "plt.figure()\n",
    "plt.plot(lr_vector)\n",
    "plt.title('constant lr')\n",
    "plt.ylabel('learning rate')\n",
    "plt.xlabel('epoch')\n",
    "plt.yscale('log')\n",
    "\n",
    "def scheduler0(epoch, lr):\n",
    "    if epoch < 10:\n",
    "        return lr\n",
    "    elif lr < 1e-6:\n",
    "        return lr\n",
    "    else:\n",
    "        return lr * tf.math.exp(-0.1)\n",
    "    \n",
    "lr_vector = fill_lr_vector(learning_rate, scheduler0)\n",
    "plt.figure()\n",
    "plt.plot(lr_vector)\n",
    "plt.title('decaying lr')\n",
    "plt.ylabel('learning rate')\n",
    "plt.xlabel('epoch')\n",
    "plt.yscale('log')\n",
    "    \n",
    "def scheduler1(epoch, lr):\n",
    "    cycle = np.array([0.5, 0.5, 0.5, 2, 2, 2])\n",
    "    if lr > 1e-7:\n",
    "        return lr * cycle[epoch % 6] * tf.math.exp(-0.1)\n",
    "    else:\n",
    "        return lr * cycle[epoch % 6]\n",
    "\n",
    "    \n",
    "lr_vector = fill_lr_vector(learning_rate, scheduler1)\n",
    "plt.figure()\n",
    "plt.plot(lr_vector)\n",
    "plt.title('cyclical lr')\n",
    "plt.ylabel('learning rate')\n",
    "plt.xlabel('epoch')\n",
    "plt.yscale('log')\n",
    "\n",
    "\n",
    "def scheduler2(epoch, lr):\n",
    "    if lr < 1e-6:\n",
    "        return lr\n",
    "    return lr * (np.cos(np.pi*2*(epoch/30))+20)/21\n",
    "\n",
    "\n",
    "lr_vector = fill_lr_vector(learning_rate, scheduler2)\n",
    "plt.figure()\n",
    "plt.plot(lr_vector)\n",
    "plt.title('smooth decrease')\n",
    "plt.ylabel('learning rate')\n",
    "plt.xlabel('epoch')\n",
    "plt.yscale('log')"
   ]
  },
  {
   "cell_type": "code",
   "execution_count": 17,
   "id": "607f8ac0",
   "metadata": {},
   "outputs": [
    {
     "name": "stdout",
     "output_type": "stream",
     "text": [
      "Epoch 1/30\n",
      "202/202 [==============================] - 10s 50ms/step - loss: 0.6993 - accuracy: 0.5885 - val_loss: 0.6497 - val_accuracy: 0.6317 - lr: 2.0000e-04\n",
      "Epoch 2/30\n",
      "202/202 [==============================] - 10s 49ms/step - loss: 0.6457 - accuracy: 0.6143 - val_loss: 0.6200 - val_accuracy: 0.6397 - lr: 2.0000e-04\n",
      "Epoch 3/30\n",
      "202/202 [==============================] - 10s 50ms/step - loss: 0.6304 - accuracy: 0.6346 - val_loss: 0.6011 - val_accuracy: 0.6534 - lr: 2.0000e-04\n",
      "Epoch 4/30\n",
      "202/202 [==============================] - 10s 51ms/step - loss: 0.5961 - accuracy: 0.6733 - val_loss: 0.6135 - val_accuracy: 0.6612 - lr: 2.0000e-04\n",
      "Epoch 5/30\n",
      "202/202 [==============================] - 10s 52ms/step - loss: 0.5971 - accuracy: 0.6718 - val_loss: 0.6018 - val_accuracy: 0.6561 - lr: 2.0000e-04\n",
      "Epoch 6/30\n",
      "202/202 [==============================] - 10s 49ms/step - loss: 0.5902 - accuracy: 0.6708 - val_loss: 0.5791 - val_accuracy: 0.6700 - lr: 2.0000e-04\n",
      "Epoch 7/30\n",
      "202/202 [==============================] - 10s 51ms/step - loss: 0.5749 - accuracy: 0.7050 - val_loss: 0.5676 - val_accuracy: 0.6854 - lr: 2.0000e-04\n",
      "Epoch 8/30\n",
      "202/202 [==============================] - 10s 49ms/step - loss: 0.5632 - accuracy: 0.7129 - val_loss: 0.5829 - val_accuracy: 0.6690 - lr: 2.0000e-04\n",
      "Epoch 9/30\n",
      "202/202 [==============================] - 10s 48ms/step - loss: 0.6195 - accuracy: 0.6609 - val_loss: 0.5789 - val_accuracy: 0.6769 - lr: 2.0000e-04\n",
      "Epoch 10/30\n",
      "202/202 [==============================] - 10s 49ms/step - loss: 0.6020 - accuracy: 0.6822 - val_loss: 0.5643 - val_accuracy: 0.6918 - lr: 2.0000e-04\n",
      "Epoch 11/30\n",
      "202/202 [==============================] - 10s 50ms/step - loss: 0.5311 - accuracy: 0.7357 - val_loss: 0.5664 - val_accuracy: 0.6979 - lr: 1.8097e-04\n",
      "Epoch 12/30\n",
      "202/202 [==============================] - 10s 49ms/step - loss: 0.5101 - accuracy: 0.7457 - val_loss: 0.5611 - val_accuracy: 0.6928 - lr: 1.6375e-04\n",
      "Epoch 13/30\n",
      "202/202 [==============================] - 10s 49ms/step - loss: 0.4851 - accuracy: 0.7675 - val_loss: 0.5620 - val_accuracy: 0.7319 - lr: 1.4816e-04\n",
      "Epoch 14/30\n",
      "202/202 [==============================] - 10s 49ms/step - loss: 0.4650 - accuracy: 0.7764 - val_loss: 0.5528 - val_accuracy: 0.7365 - lr: 1.3406e-04\n",
      "Epoch 15/30\n",
      "202/202 [==============================] - 10s 49ms/step - loss: 0.4596 - accuracy: 0.7908 - val_loss: 0.5431 - val_accuracy: 0.7332 - lr: 1.2131e-04\n",
      "Epoch 16/30\n",
      "202/202 [==============================] - 10s 49ms/step - loss: 0.4278 - accuracy: 0.8086 - val_loss: 0.5312 - val_accuracy: 0.7489 - lr: 1.0976e-04\n",
      "Epoch 17/30\n",
      "202/202 [==============================] - 10s 50ms/step - loss: 0.3997 - accuracy: 0.8240 - val_loss: 0.6161 - val_accuracy: 0.7194 - lr: 9.9317e-05\n",
      "Epoch 18/30\n",
      "202/202 [==============================] - 10s 49ms/step - loss: 0.3887 - accuracy: 0.8255 - val_loss: 0.5874 - val_accuracy: 0.7511 - lr: 8.9866e-05\n",
      "Epoch 19/30\n",
      "202/202 [==============================] - 10s 49ms/step - loss: 0.4068 - accuracy: 0.8111 - val_loss: 0.5782 - val_accuracy: 0.7446 - lr: 8.1314e-05\n",
      "Epoch 20/30\n",
      "202/202 [==============================] - 10s 49ms/step - loss: 0.3745 - accuracy: 0.8270 - val_loss: 0.5959 - val_accuracy: 0.7378 - lr: 7.3576e-05\n",
      "Epoch 21/30\n",
      "202/202 [==============================] - 10s 49ms/step - loss: 0.3506 - accuracy: 0.8488 - val_loss: 0.6145 - val_accuracy: 0.7695 - lr: 6.6574e-05\n",
      "Epoch 22/30\n",
      "202/202 [==============================] - 10s 49ms/step - loss: 0.3408 - accuracy: 0.8577 - val_loss: 0.6065 - val_accuracy: 0.7710 - lr: 6.0239e-05\n",
      "Epoch 23/30\n",
      "202/202 [==============================] - 10s 49ms/step - loss: 0.3256 - accuracy: 0.8651 - val_loss: 0.6835 - val_accuracy: 0.7514 - lr: 5.4506e-05\n",
      "Epoch 24/30\n",
      "202/202 [==============================] - 10s 49ms/step - loss: 0.3177 - accuracy: 0.8632 - val_loss: 0.6235 - val_accuracy: 0.7732 - lr: 4.9319e-05\n",
      "Epoch 25/30\n",
      "202/202 [==============================] - 10s 49ms/step - loss: 0.3046 - accuracy: 0.8790 - val_loss: 0.6579 - val_accuracy: 0.7799 - lr: 4.4626e-05\n",
      "Epoch 26/30\n",
      "202/202 [==============================] - 10s 50ms/step - loss: 0.3020 - accuracy: 0.8770 - val_loss: 0.6530 - val_accuracy: 0.7810 - lr: 4.0379e-05\n",
      "Epoch 27/30\n",
      "202/202 [==============================] - 10s 49ms/step - loss: 0.2947 - accuracy: 0.8756 - val_loss: 0.6602 - val_accuracy: 0.7806 - lr: 3.6537e-05\n",
      "Epoch 28/30\n",
      "202/202 [==============================] - 11s 52ms/step - loss: 0.2854 - accuracy: 0.8830 - val_loss: 0.6574 - val_accuracy: 0.7758 - lr: 3.3060e-05\n",
      "Epoch 29/30\n",
      "202/202 [==============================] - 10s 51ms/step - loss: 0.2801 - accuracy: 0.8850 - val_loss: 0.7101 - val_accuracy: 0.7573 - lr: 2.9914e-05\n",
      "Epoch 30/30\n",
      "202/202 [==============================] - 10s 50ms/step - loss: 0.2715 - accuracy: 0.8939 - val_loss: 0.6662 - val_accuracy: 0.7836 - lr: 2.7067e-05\n"
     ]
    }
   ],
   "source": [
    "loss_fn = tf.keras.losses.BinaryCrossentropy()\n",
    "\n",
    "opt = tf.keras.optimizers.Adam(learning_rate=learning_rate)\n",
    "\n",
    "model.compile(optimizer=opt,\n",
    "              loss=loss_fn,\n",
    "              metrics=['accuracy'])\n",
    "\n",
    "\n",
    "callback = tf.keras.callbacks.LearningRateScheduler(scheduler0)\n",
    "\n",
    "history = model.fit(training_set, labels, epochs=30, validation_split=0.8, batch_size=10, callbacks = [callback])"
   ]
  },
  {
   "cell_type": "code",
   "execution_count": 18,
   "id": "7f6725d0",
   "metadata": {},
   "outputs": [
    {
     "data": {
      "image/png": "[encoded data removed]",
      "text/plain": [
       "<Figure size 432x288 with 1 Axes>"
      ]
     },
     "metadata": {
      "needs_background": "light"
     },
     "output_type": "display_data"
    }
   ],
   "source": [
    "plt.figure()\n",
    "plt.plot(history.history['accuracy'], label='accuracy')\n",
    "plt.plot(history.history['val_accuracy'], label = 'val_accuracy')\n",
    "plt.xlabel('Epoch')\n",
    "plt.ylabel('Accuracy')\n",
    "plt.ylim([0, 1])\n",
    "plt.legend(loc='lower right')\n",
    "plt.grid(True)\n",
    "# test_loss, test_acc = model.evaluate(test_images,  test_labels, verbose=2)"
   ]
  },
  {
   "cell_type": "markdown",
   "id": "6cb44b46",
   "metadata": {},
   "source": [
    "Now we can verify how well our model works. The file used below (chb04_28.edf) was excluded from our training data. How the model predicts on one of its seizures is shown below. And again, the area within the red borders is labeled as seizure in the data set and the area above the yellow line is what the model predicted as a seizure."
   ]
  },
  {
   "cell_type": "code",
   "execution_count": 19,
   "id": "941228f2",
   "metadata": {},
   "outputs": [
    {
     "data": {
      "text/plain": [
       "<matplotlib.lines.Line2D at 0x292cbf96700>"
      ]
     },
     "execution_count": 19,
     "metadata": {},
     "output_type": "execute_result"
    },
    {
     "data": {
      "image/png": "[encoded data removed]",
      "text/plain": [
       "<Figure size 432x288 with 1 Axes>"
      ]
     },
     "metadata": {
      "needs_background": "light"
     },
     "output_type": "display_data"
    }
   ],
   "source": [
    "interval_to_predict = row_normalized_eeg[:,1576*256:1800*256]\n",
    "no_samples = int(np.shape(interval_to_predict)[1]/512)\n",
    "test_set = np.zeros((112,23,512,1))\n",
    "for i in range(no_samples):\n",
    "    test_set[i,:,:,0] = interval_to_predict[:,i*512:(i+1)*512]\n",
    "    \n",
    "predictions = model.predict(test_set)\n",
    "predictions = np.round(predictions)\n",
    "label_line = np.zeros((1, 512*no_samples))\n",
    "for i in range(no_samples):\n",
    "    label_line[0,i*512:(i+1)*512] = predictions[i]\n",
    "    \n",
    "label_line[label_line > 1]=1\n",
    "interval_with_labels = np.append(interval_to_predict, label_line, axis=0)\n",
    "\n",
    "plt.figure()\n",
    "plt.imshow(interval_with_labels, interpolation='nearest', aspect='auto')\n",
    "plt.locator_params(axis='y', nbins=24)\n",
    "plt.axvline(x=(1679-1577)*256, c='r')\n",
    "plt.axvline(x=(1781-1577)*256, c='r')\n"
   ]
  }
 ],
 "metadata": {
  "kernelspec": {
   "display_name": "Python 3 (ipykernel)",
   "language": "python",
   "name": "python3"
  },
  "language_info": {
   "codemirror_mode": {
    "name": "ipython",
    "version": 3
   },
   "file_extension": ".py",
   "mimetype": "text/x-python",
   "name": "python",
   "nbconvert_exporter": "python",
   "pygments_lexer": "ipython3",
   "version": "3.9.7"
  }
 },
 "nbformat": 4,
 "nbformat_minor": 5
}
